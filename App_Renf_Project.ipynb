{
  "nbformat": 4,
  "nbformat_minor": 0,
  "metadata": {
    "colab": {
      "name": "App_Renf_Project.ipynb",
      "provenance": [],
      "collapsed_sections": []
    },
    "kernelspec": {
      "name": "python3",
      "display_name": "Python 3"
    }
  },
  "cells": [
    {
      "cell_type": "markdown",
      "metadata": {
        "id": "yszAtMGIvfL4"
      },
      "source": [
        "<h1> TP Apprentisage par renforcement: </h1>\n",
        "\n",
        "<h2> -MELLAL Houdaifa </h2>\n",
        "\n"
      ]
    },
    {
      "cell_type": "markdown",
      "metadata": {
        "id": "C_m0W03Ev01o"
      },
      "source": [
        "<h1> Exercice 1 :</h1>"
      ]
    },
    {
      "cell_type": "code",
      "metadata": {
        "id": "CUoCgGM8PBLb"
      },
      "source": [
        "import base\n",
        "import numpy as np\n",
        "import matplotlib.pyplot as plt"
      ],
      "execution_count": null,
      "outputs": []
    },
    {
      "cell_type": "markdown",
      "metadata": {
        "id": "ZuBSyiGXwB-g"
      },
      "source": [
        "La définition de la fonction **ipe** qu'on utilise pour calculer l'erreur des résultats de nos algorithme de prédiction:"
      ]
    },
    {
      "cell_type": "code",
      "metadata": {
        "id": "SqlcrEkhQQm-"
      },
      "source": [
        "def ipe(policy, env, gamma, epsilon=0.001):\n",
        "    v = np.zeros((env.get_nb_states()))\n",
        "    q = np.sum(env.p()*(env.r() + gamma * v[np.newaxis, np.newaxis, :]), axis=2)\n",
        "    nv = np.sum(policy * q, axis=1)\n",
        "    delta = np.sum(np.abs(nv-v))\n",
        "\n",
        "    while delta > epsilon:\n",
        "        v = nv\n",
        "        q = np.sum(env.p()*(env.r() + gamma * v[np.newaxis, np.newaxis, :]), axis=2)\n",
        "        nv = np.sum(policy * q, axis=1)\n",
        "        delta = np.sum(np.abs(nv-v))\n",
        "    \n",
        "    return nv\n",
        "\n",
        "\n"
      ],
      "execution_count": null,
      "outputs": []
    },
    {
      "cell_type": "markdown",
      "metadata": {
        "id": "1QH-9oMnwRJf"
      },
      "source": [
        "Question 1: La définition de la politique en appliquant les probabilités d'actions, et l'initialisation de l'environnement maze:"
      ]
    },
    {
      "cell_type": "code",
      "metadata": {
        "id": "DYk--5EQRhQQ"
      },
      "source": [
        "# 1. Dans Maze représenter la politique suivante : dans chaque état appliquer les probabilités d'actions {W: 0.1, S:0.4, E:0.4, N:0.1}\n",
        "\n",
        "# l'environnement Maze env\n",
        "env = base.Maze()\n",
        "\n",
        "# La politique p:\n",
        "p = np.zeros((env.get_nb_states(),env.get_nb_actions()))+np.array([0.1, 0.4,0.4,0.1])\n"
      ],
      "execution_count": null,
      "outputs": []
    },
    {
      "cell_type": "markdown",
      "metadata": {
        "id": "sgPpmOXbwrS-"
      },
      "source": [
        "Question 2: Definir les fonctions TD0_prediction et Monte-Carlo, et comparer les résultats en utilisant IPE. "
      ]
    },
    {
      "cell_type": "code",
      "metadata": {
        "id": "xuj42n_vR8Zo"
      },
      "source": [
        "# 2. Comparer MC prediction et TD(0): \n",
        "\n",
        "def TD0_prediction(policy, env, gamma, alpha, nb_episodes):\n",
        "    nba = env.get_nb_actions()\n",
        "    nbs = env.get_nb_states()\n",
        "    v = np.zeros((nbs))\n",
        "    for ne in range(nb_episodes):\n",
        "        state = env.reset()\n",
        "        final = False\n",
        "        \n",
        "        while not final:\n",
        "            action = np.random.choice(nba, p=policy[state])\n",
        "            ns, renf, final, _ = env.step(action)\n",
        "            v[state] += alpha*( renf + (gamma*v[ns]) - v[state] )\n",
        "            state = ns\n",
        "            \n",
        "    return v\n",
        "\n",
        "\n",
        "def mc_prediction(policy, env, gamma, nb_episodes):\n",
        "    nba = env.get_nb_actions()\n",
        "    nbs = env.get_nb_states()\n",
        "    \n",
        "    for ne in range(nb_episodes):\n",
        "        # Générer un épisode\n",
        "        episode = []\n",
        "        state = env.reset()\n",
        "        final = False\n",
        "        while not final:\n",
        "            action = np.random.choice(nba, p=policy[state])\n",
        "            ns, renf, final, _ = env.step(action)\n",
        "            episode.append([state, action, ns, renf])\n",
        "            state = ns\n",
        "        \n",
        "        # Mettre à jour les valeurs\n",
        "        retour = 0\n",
        "        compteur = np.zeros((nbs)) # compteur d'états\n",
        "        somme = np.zeros((nbs)) # somme des valeurs d'états\n",
        "        for s, a, ns, r in reversed(episode):\n",
        "            retour = r + gamma * retour\n",
        "            compteur[s] += 1\n",
        "            somme[s] += retour\n",
        "        \n",
        "    v = somme.copy()\n",
        "    for s in range(nbs):\n",
        "        if compteur[s]>0:\n",
        "            v[s] /= compteur[s]\n",
        "    return v\n",
        "\n",
        "\n",
        "\n"
      ],
      "execution_count": null,
      "outputs": []
    },
    {
      "cell_type": "markdown",
      "metadata": {
        "id": "FToey7tVy3Cx"
      },
      "source": [
        "Avec epsilon = 0.3, gamma = 0.4, on applique une prediction de V suivant notre politique p et l'algorithme TD0 avec les épisodes de 100 a 2000 ou le pas est de 200. On obtiendra le graph suivant:"
      ]
    },
    {
      "cell_type": "code",
      "metadata": {
        "id": "SOnAjZxe2xUM",
        "colab": {
          "base_uri": "https://localhost:8080/",
          "height": 268
        },
        "outputId": "d75569e9-3e4b-42ec-dc20-a2484ef4ec8f"
      },
      "source": [
        "X= np.array([])\n",
        "Y= np.array([])\n",
        "res1 = ipe(p, env, 0.3)\n",
        "  \n",
        "for x in range(100,1500,200):\n",
        "  X=np.append(X,x)\n",
        "  res = TD0_prediction(p,env,0.3,0.4,x)\n",
        "  Y=np.append(Y,np.linalg.norm(res-res1))\n",
        "\n",
        "plt.plot(X,Y)\n",
        "plt.ylabel('TDLambda')\n",
        "plt.show()\n",
        "\n",
        "\n",
        "\n"
      ],
      "execution_count": null,
      "outputs": [
        {
          "output_type": "display_data",
          "data": {
            "image/png": "[encoded data removed]",
            "text/plain": [
              "<Figure size 432x288 with 1 Axes>"
            ]
          },
          "metadata": {
            "tags": [],
            "needs_background": "light"
          }
        }
      ]
    },
    {
      "cell_type": "markdown",
      "metadata": {
        "id": "oXKgwKHT6b10"
      },
      "source": [
        "Avec gamma = 0.4, on applique une prediction de V suivant notre politique p et l'algorithme Monte Carlo avec les épisodes de 100 a 1200 ou le pas est de 100. On obtiendra le graph suivant:"
      ]
    },
    {
      "cell_type": "code",
      "metadata": {
        "colab": {
          "base_uri": "https://localhost:8080/",
          "height": 265
        },
        "id": "WLXpheB22_dB",
        "outputId": "5efce63b-11dd-4962-9fdd-ddc9e2965a98"
      },
      "source": [
        "X= np.array([])\n",
        "Y= np.array([])\n",
        "res1 = ipe(p, env, 0.3)\n",
        "  \n",
        "for x in range(100,1200,100):\n",
        "  X=np.append(X,x)\n",
        "  res = mc_prediction(p,env,0.4,x)\n",
        "  Y=np.append(Y,np.linalg.norm(res-res1))\n",
        "\n",
        "plt.plot(X,Y)\n",
        "plt.ylabel('TDLambda')\n",
        "plt.show()\n"
      ],
      "execution_count": null,
      "outputs": [
        {
          "output_type": "display_data",
          "data": {
            "image/png": "[encoded data removed]",
            "text/plain": [
              "<Figure size 432x288 with 1 Axes>"
            ]
          },
          "metadata": {
            "tags": [],
            "needs_background": "light"
          }
        }
      ]
    },
    {
      "cell_type": "markdown",
      "metadata": {
        "id": "FlR0R3_R2PNr"
      },
      "source": [
        "Question 3 : Implimentation des algorithmes TD0 nstep et Td(Lambda): "
      ]
    },
    {
      "cell_type": "code",
      "metadata": {
        "id": "oZHk_vVkfU5T"
      },
      "source": [
        "# 3. Implémentation de n-steps TD0 et TD(LAMBDA) : \n",
        "\n",
        "\n",
        "# TD0 : nstep:\n",
        "\n",
        "def TD0_prediction_nstep(policy, env, gamma, alpha, nb_episodes, nstep):\n",
        "    nba = env.get_nb_actions()\n",
        "    nbs = env.get_nb_states()\n",
        "    v = np.zeros((nbs))\n",
        "    for ne in range(nb_episodes):\n",
        "        step = 0\n",
        "        state = env.reset()\n",
        "        final = False\n",
        "        \n",
        "        while not final:\n",
        "            action = np.random.choice(nba, p=policy[state])\n",
        "            ns, renf, final, _ = env.step(action)\n",
        "            somme = renf\n",
        "            \n",
        "            for i in range(nstep):\n",
        "              action = np.random.choice(nba, p=policy[state])\n",
        "              n, r, f, _ = env.step(action)\n",
        "              somme = renf + gamma*somme\n",
        "            \n",
        "            v[state] += alpha*(somme - v[state] )  \n",
        "            state = ns\n",
        "            \n",
        "    return v\n",
        "\n",
        "# TD lambda \n",
        "def TDlambda_prediction(policy, env, gamma, alpha,nb_episodes, lamb):\n",
        "    nba = env.get_nb_actions()\n",
        "    nbs = env.get_nb_states()\n",
        "    v = np.zeros((nbs))\n",
        "    for ne in range(nb_episodes):\n",
        "        state = env.reset()\n",
        "        final = False\n",
        "        E= np.zeros((nbs))\n",
        "        while not final:\n",
        "            action = np.random.choice(nba, p=policy[state])\n",
        "            ns, renf, final, _ = env.step(action)\n",
        "            delta = renf + gamma*v[ns] - v[state]\n",
        "            for st in range(len(E)):\n",
        "              if(st == state):\n",
        "                E[st] = gamma * lamb * E[st] + 1\n",
        "              else:\n",
        "                E[st] = gamma * lamb * E[st] \n",
        "            for st in range(len(v)):\n",
        "              v[st] += alpha*delta*E[st]\n",
        "            \n",
        "            state = ns\n",
        "            \n",
        "    return v"
      ],
      "execution_count": null,
      "outputs": []
    },
    {
      "cell_type": "markdown",
      "metadata": {
        "id": "6zEXl-cO17jc"
      },
      "source": [
        "Avec gamma = 0.4, epsilon = 0.3 on applique une prediction de V suivant notre politique p et l'algorithme Monte Carlo avec les épisodes de 100 a 1600 ou le pas est de 100. On obtiendra le graph suivant:"
      ]
    },
    {
      "cell_type": "code",
      "metadata": {
        "colab": {
          "base_uri": "https://localhost:8080/",
          "height": 268
        },
        "id": "S9PF0r_45rIp",
        "outputId": "4b56601e-5139-4633-dd05-d549848855ab"
      },
      "source": [
        "X= np.array([])\n",
        "Y= np.array([])\n",
        "res1 = ipe(p, env, 0.3)\n",
        "  \n",
        "for x in range(100,1700,100):\n",
        "  X=np.append(X,x)\n",
        "  res = TDlambda_prediction(p,env,0.4,0.3,x,0.8)\n",
        "  Y=np.append(Y,np.linalg.norm(res-res1))\n",
        "\n",
        "plt.plot(X,Y)\n",
        "plt.ylabel('TDLambda')\n",
        "plt.show()\n",
        "\n"
      ],
      "execution_count": null,
      "outputs": [
        {
          "output_type": "display_data",
          "data": {
            "image/png": "[encoded data removed]",
            "text/plain": [
              "<Figure size 432x288 with 1 Axes>"
            ]
          },
          "metadata": {
            "tags": [],
            "needs_background": "light"
          }
        }
      ]
    },
    {
      "cell_type": "markdown",
      "metadata": {
        "id": "iU-8pfqZ60RT"
      },
      "source": [
        "Avec gamma = 0.4, epsilon = 0.3 on applique une prediction de V suivant notre politique p et l'algorithme TD0 Nstep avec step = 2 avec les épisodes de 100 a 1500 ou le pas est de 100. On obtiendra le graph suivant:"
      ]
    },
    {
      "cell_type": "code",
      "metadata": {
        "colab": {
          "base_uri": "https://localhost:8080/",
          "height": 265
        },
        "id": "wy4ysNrZi8af",
        "outputId": "3778619c-d42a-4929-df03-ffa9ca563be3"
      },
      "source": [
        "X= np.array([])\n",
        "Y= np.array([])\n",
        "res1 = ipe(p, env, 0.3)\n",
        "  \n",
        "for x in range(100,1500,100):\n",
        "  X=np.append(X,x)\n",
        "  res = TD0_prediction_nstep(p,env,0.4,0.3,x,2)\n",
        "  Y=np.append(Y,np.linalg.norm(res-res1))\n",
        "\n",
        "plt.plot(X,Y)\n",
        "plt.ylabel('TD0 NSTEP: STEP = 2')\n",
        "plt.show()\n",
        "\n"
      ],
      "execution_count": null,
      "outputs": [
        {
          "output_type": "display_data",
          "data": {
            "image/png": "[encoded data removed]",
            "text/plain": [
              "<Figure size 432x288 with 1 Axes>"
            ]
          },
          "metadata": {
            "tags": [],
            "needs_background": "light"
          }
        }
      ]
    },
    {
      "cell_type": "markdown",
      "metadata": {
        "id": "8X33Ms-T72_0"
      },
      "source": [
        "Avec gamma = 0.4, epsilon = 0.3 on applique une prediction de V suivant notre politique p et l'algorithme TD0 Nstep avec step = 5 avec les épisodes de 100 a 1500 ou le pas est de 100. On obtiendra le graph suivant:"
      ]
    },
    {
      "cell_type": "code",
      "metadata": {
        "colab": {
          "base_uri": "https://localhost:8080/",
          "height": 265
        },
        "id": "6ZfPWADy7kQj",
        "outputId": "ed045b46-def2-4003-c871-2a07a0f9104c"
      },
      "source": [
        "X= np.array([])\n",
        "Y= np.array([])\n",
        "res1 = ipe(p, env, 0.3)\n",
        "  \n",
        "for x in range(100,1500,100):\n",
        "  X=np.append(X,x)\n",
        "  res = TD0_prediction_nstep(p,env,0.4,0.3,x,5)\n",
        "  Y=np.append(Y,np.linalg.norm(res-res1))\n",
        "\n",
        "plt.plot(X,Y)\n",
        "plt.ylabel('TD0 NSTEP: STEP = 2')\n",
        "plt.show()\n"
      ],
      "execution_count": null,
      "outputs": [
        {
          "output_type": "display_data",
          "data": {
            "image/png": "[encoded data removed]",
            "text/plain": [
              "<Figure size 432x288 with 1 Axes>"
            ]
          },
          "metadata": {
            "tags": [],
            "needs_background": "light"
          }
        }
      ]
    },
    {
      "cell_type": "markdown",
      "metadata": {
        "id": "7iDJS_Mm791B"
      },
      "source": [
        "Avec gamma = 0.4, epsilon = 0.3 on applique une prediction de V suivant notre politique p et l'algorithme TD0 Nstep avec step = 10 avec les épisodes de 100 a 1500 ou le pas est de 100. On obtiendra le graph suivant:"
      ]
    },
    {
      "cell_type": "code",
      "metadata": {
        "colab": {
          "base_uri": "https://localhost:8080/",
          "height": 265
        },
        "id": "MXJGBEuT7lBT",
        "outputId": "da5c6e02-29d2-451c-8837-42758c8237d7"
      },
      "source": [
        "X= np.array([])\n",
        "Y= np.array([])\n",
        "res1 = ipe(p, env, 0.3)\n",
        "  \n",
        "for x in range(100,1500,100):\n",
        "  X=np.append(X,x)\n",
        "  res = TD0_prediction_nstep(p,env,0.4,0.3,x,10)\n",
        "  Y=np.append(Y,np.linalg.norm(res-res1))\n",
        "\n",
        "plt.plot(X,Y)\n",
        "plt.ylabel('TD0 NSTEP: STEP = 2')\n",
        "plt.show()\n"
      ],
      "execution_count": null,
      "outputs": [
        {
          "output_type": "display_data",
          "data": {
            "image/png": "[encoded data removed]",
            "text/plain": [
              "<Figure size 432x288 with 1 Axes>"
            ]
          },
          "metadata": {
            "tags": [],
            "needs_background": "light"
          }
        }
      ]
    },
    {
      "cell_type": "markdown",
      "metadata": {
        "id": "sRUPvx-_XHP-"
      },
      "source": [
        "Exercice 2 - Controle: #"
      ]
    },
    {
      "cell_type": "markdown",
      "metadata": {
        "id": "sKZa0PEx8Fe9"
      },
      "source": [
        "Question 1: La réalisation MC-control, SARSA\n",
        "et Q-Learning avec la condition sur epsilon"
      ]
    },
    {
      "cell_type": "code",
      "metadata": {
        "id": "gLRK8NfVXKIW"
      },
      "source": [
        "# 1-Comparaison de l'évolution des différents algorithmes en definant epsilon:\n",
        "\n",
        "\n",
        "def greedy_decision(qvalues, state):\n",
        "    return np.argmax(qvalues[state])\n",
        "\n",
        "def greedy_policy(qvalues):\n",
        "    policy = np.zeros((env.get_nb_states(), env.get_nb_actions()))\n",
        "    for s, va in enumerate(qvalues):\n",
        "        policy[s, np.argmax(va)] += 1\n",
        "    return policy\n",
        "\n",
        "def egreedy_decision(qvalues, state, epsilon):\n",
        "    if np.random.rand() < epsilon:\n",
        "        return np.random.randint(0, len(qvalues[state]))\n",
        "    else:\n",
        "        return np.argmax(qvalues[state])\n",
        "\n",
        "def egreedy_policy(qvalues, epsilon):\n",
        "    nb_actions = qvalues.shape[1]\n",
        "    policy = np.ones((env.get_nb_states(), env.get_nb_actions())) * epsilon / nb_actions\n",
        "    for s, va in enumerate(qvalues):\n",
        "        policy[s, np.argmax(va)] += 1 - epsilon\n",
        "    return policy\n",
        "    \n",
        "    \n",
        "def monte_carlo(env, gamma, nb_episodes, epsilon, T):\n",
        "    nba = env.get_nb_actions()\n",
        "    q = np.zeros((env.get_nb_states(), nba))\n",
        "    n = np.zeros((env.get_nb_states(), nba))\n",
        "    policy = np.ones((env.get_nb_states(), nba)) / nba\n",
        "    t=0\n",
        "    Action= np.array([])\n",
        "    Recom= np.array([])\n",
        "    for ne in range(nb_episodes):\n",
        "        t+=1\n",
        "        if(t>T):\n",
        "          epsilon = epsilon/(np.sqrt(t-T)) \n",
        "        state = env.reset()\n",
        "        episode = []\n",
        "        nbr_a = 0\n",
        "        nbr_r = 0\n",
        "        while not env.is_final(state):\n",
        "            action = np.random.choice(nba, p=policy[state])\n",
        "            nvstate, r, _, _ = env.step(action)\n",
        "            episode.append([state, action, nvstate, r])\n",
        "            state = nvstate\n",
        "            nbr_a +=1\n",
        "            nbr_r +=r\n",
        "        \n",
        "        g = 0 # retour\n",
        "        for s, a, ns, r in reversed(episode):\n",
        "            g = r + gamma * g\n",
        "            n[s, a] += 1\n",
        "            q[s, a] += (g - q[s,a]) / n[s,a] \n",
        "        \n",
        "        policy = egreedy_policy(q, epsilon)\n",
        "        Recom = np.append(Recom,nbr_r)\n",
        "        Action = np.append(Action,nbr_a)\n",
        "    \n",
        "    return q,Action,Recom\n",
        "\n",
        "def sarsa(env, gamma, alpha, nb_episodes, epsilon,T):\n",
        "    q = np.zeros((env.get_nb_states(), env.get_nb_actions()))\n",
        "    t=0\n",
        "    Action= np.array([])\n",
        "    Recom= np.array([])\n",
        "    for ne in range(nb_episodes):\n",
        "        t+=1\n",
        "        if(t>T):\n",
        "          epsilon = epsilon/(np.sqrt(t-T))       \n",
        "        state = env.reset()\n",
        "        action = egreedy_decision(q, state, epsilon)\n",
        "        nbr_a = 0\n",
        "        nbr_r = 0\n",
        "        while not env.is_final(state):\n",
        "            nvstate, r, final, _ = env.step(action)\n",
        "            nvaction = egreedy_decision(q, nvstate, epsilon)\n",
        "            \n",
        "            if final:\n",
        "                target = r\n",
        "            else:\n",
        "                target = r + gamma * q[nvstate, nvaction]\n",
        "            \n",
        "            q[state, action] += alpha * (target - q[state, action])\n",
        "            \n",
        "            state = nvstate\n",
        "            action = nvaction\n",
        "            \n",
        "            nbr_a+=1\n",
        "            nbr_r+=r\n",
        "        Recom = np.append(Recom,nbr_r)\n",
        "        Action = np.append(Action,nbr_a)\n",
        "    return q,Action,Recom\n",
        "\n",
        "def q_learning(env, gamma, alpha, nb_episodes, epsilon,T):\n",
        "    q = np.zeros((env.get_nb_states(), env.get_nb_actions()))\n",
        "    t=0     \n",
        "    Action= np.array([])\n",
        "    Recom= np.array([])\n",
        "    for ne in range(nb_episodes):\n",
        "        t+=1\n",
        "        if(t>T):\n",
        "          epsilon = epsilon/(np.sqrt(t-T))\n",
        "        state = env.reset()\n",
        "        nbr_a = 0\n",
        "        nbr_r = 0\n",
        "        while not env.is_final(state):\n",
        "            action = egreedy_decision(q, state, epsilon)\n",
        "            nvstate, r, final, _ = env.step(action)\n",
        "            \n",
        "            if final:\n",
        "                target = r\n",
        "            else:\n",
        "                target = r + gamma * np.max(q[nvstate])\n",
        "            \n",
        "            q[state, action] += alpha * (target - q[state, action])\n",
        "            \n",
        "            state = nvstate\n",
        "            nbr_a+=1\n",
        "            nbr_r+=1\n",
        "\n",
        "        Action = np.append(Action,nbr_a)\n",
        "        Recom  = np.append(Recom, nbr_r) \n",
        "    return q,Action,Recom"
      ],
      "execution_count": null,
      "outputs": []
    },
    {
      "cell_type": "code",
      "metadata": {
        "id": "0E-sC2FZCD7l"
      },
      "source": [
        "Application de monte carlo pour 100 épisodes, gamma = 0.9, nombre des episodes = 100, epsilon ) 0.1 et T = 50"
      ],
      "execution_count": null,
      "outputs": []
    },
    {
      "cell_type": "code",
      "metadata": {
        "colab": {
          "base_uri": "https://localhost:8080/",
          "height": 283
        },
        "id": "XyruvNNbbGR-",
        "outputId": "e69220b9-52db-44ec-b1dc-e5fde91dfadc"
      },
      "source": [
        "#Apply Monte Carlo: \n",
        "q_mc,Action,Recomp = monte_carlo(env, 0.9, 100, 0.1,50)\n",
        "p_mc = greedy_policy(q_mc)\n",
        "p_mc\n",
        "\n",
        "plt.plot(range(100),Action)"
      ],
      "execution_count": null,
      "outputs": [
        {
          "output_type": "execute_result",
          "data": {
            "text/plain": [
              "[<matplotlib.lines.Line2D at 0x7f00cf798438>]"
            ]
          },
          "metadata": {
            "tags": []
          },
          "execution_count": 42
        },
        {
          "output_type": "display_data",
          "data": {
            "image/png": "[encoded data removed]",
            "text/plain": [
              "<Figure size 432x288 with 1 Axes>"
            ]
          },
          "metadata": {
            "tags": [],
            "needs_background": "light"
          }
        }
      ]
    },
    {
      "cell_type": "code",
      "metadata": {
        "id": "1lI-WNoVOr-w"
      },
      "source": [
        "plt.plot(range(100),Recomp)"
      ],
      "execution_count": null,
      "outputs": []
    },
    {
      "cell_type": "markdown",
      "metadata": {
        "id": "xP7aPDXTD5ym"
      },
      "source": [
        "Application de monte carlo pour 100 épisodes, gamma = 0.9, alpha = 0.8 nombre des episodes = 100, epsilon = 0.1 et T = 50"
      ]
    },
    {
      "cell_type": "code",
      "metadata": {
        "colab": {
          "base_uri": "https://localhost:8080/",
          "height": 283
        },
        "id": "14-LwKqObVdd",
        "outputId": "3e571bda-d339-46ef-e291-5a624b1bebc1"
      },
      "source": [
        "#Apply Sarsa: \n",
        "\n",
        "q_sarsa,Action,Recomp = sarsa(env,0.9,0.8,100,0.1,50)\n",
        "p_sarsa = greedy_policy(q_sarsa)\n",
        "p_sarsa\n",
        "\n",
        "plt.plot(range(100),Action)"
      ],
      "execution_count": null,
      "outputs": [
        {
          "output_type": "execute_result",
          "data": {
            "text/plain": [
              "[<matplotlib.lines.Line2D at 0x7f00cf3388d0>]"
            ]
          },
          "metadata": {
            "tags": []
          },
          "execution_count": 66
        },
        {
          "output_type": "display_data",
          "data": {
            "image/png": "[encoded data removed]",
            "text/plain": [
              "<Figure size 432x288 with 1 Axes>"
            ]
          },
          "metadata": {
            "tags": [],
            "needs_background": "light"
          }
        }
      ]
    },
    {
      "cell_type": "code",
      "metadata": {
        "id": "KXDf1JEyOrEw"
      },
      "source": [
        "plt.plot(range(100),Recomp)"
      ],
      "execution_count": null,
      "outputs": []
    },
    {
      "cell_type": "markdown",
      "metadata": {
        "id": "bNb9_ldGEAD5"
      },
      "source": [
        "Application de monte carlo pour 100 épisodes, gamma = 0.9, alpha = 0.8 nombre des episodes = 100, epsilon = 0.1 et T = 50"
      ]
    },
    {
      "cell_type": "code",
      "metadata": {
        "colab": {
          "base_uri": "https://localhost:8080/",
          "height": 283
        },
        "id": "KzUWn6uTbWDD",
        "outputId": "20703b0c-39ac-440a-ce57-c3704ef4c17b"
      },
      "source": [
        "#Apply Q_Learning: \n",
        "\n",
        "q_Ql,Action,Recomp = q_learning(env,0.9,0.8,100,0.1,50)\n",
        "p_Ql = greedy_policy(q_Ql)\n",
        "\n",
        "p_Ql\n",
        "plt.plot(range(100),Action)"
      ],
      "execution_count": null,
      "outputs": [
        {
          "output_type": "execute_result",
          "data": {
            "text/plain": [
              "[<matplotlib.lines.Line2D at 0x7f00cf3f9048>]"
            ]
          },
          "metadata": {
            "tags": []
          },
          "execution_count": 60
        },
        {
          "output_type": "display_data",
          "data": {
            "image/png": "[encoded data removed]",
            "text/plain": [
              "<Figure size 432x288 with 1 Axes>"
            ]
          },
          "metadata": {
            "tags": [],
            "needs_background": "light"
          }
        }
      ]
    },
    {
      "cell_type": "code",
      "metadata": {
        "id": "T4EC0eOGOp1P"
      },
      "source": [
        "plt.plot(range(100),Recomp)"
      ],
      "execution_count": null,
      "outputs": []
    },
    {
      "cell_type": "markdown",
      "metadata": {
        "id": "_OeP0fnJE8t0"
      },
      "source": [
        "Question 2 : Tester et montrer les performances en utilisant d'autres moyens de gérer l'exploration"
      ]
    },
    {
      "cell_type": "markdown",
      "metadata": {
        "id": "lS2uI1_hKqVj"
      },
      "source": [
        "1- Implimentation de Softmax policy et decision:"
      ]
    },
    {
      "cell_type": "code",
      "metadata": {
        "id": "ZTXTdwRJfivq"
      },
      "source": [
        "def Softmax_policy(qvalues,T=20):\n",
        "    policy = np.zeros((env.get_nb_states(), env.get_nb_actions()))\n",
        "    for s in range( len(qvalues) ):\n",
        "      step = qvalues[s]\n",
        "      for a in range( len(step) ):\n",
        "        policy[s, a] = np.exp(qvalues(s,a)/T)/np.sum(np.exp( step/ T ) )\n",
        "    return policy\n",
        "\n",
        "def Softmax_decision(qvalues, state, T=20):\n",
        "    policy = np.zeros(env.get_nb_actions())\n",
        "    for  a in range ( len(qvalues[state]) ):\n",
        "        policy[state, a] = np.exp(qvalues(state,a)/T)/np.sum(np.exp( qvalues[state]/ T ) )\n",
        "    \n",
        "    return np.random.choice(policy)\n"
      ],
      "execution_count": null,
      "outputs": []
    },
    {
      "cell_type": "markdown",
      "metadata": {
        "id": "thCcH9CGK_qW"
      },
      "source": [
        "2- Implimentation des algorithmes de controle en utilisant les algorithmes de prédiction:"
      ]
    },
    {
      "cell_type": "code",
      "metadata": {
        "id": "tGBrtO9zHPeZ"
      },
      "source": [
        "\n",
        "#### Monte Carlo avec Softmax :\n",
        "def monte_carloSM(env, gamma, nb_episodes, epsilon, T,TEMP):\n",
        "    nba = env.get_nb_actions()\n",
        "    q = np.zeros((env.get_nb_states(), nba))\n",
        "    n = np.zeros((env.get_nb_states(), nba))\n",
        "    policy = np.ones((env.get_nb_states(), nba)) / nba\n",
        "    t=0\n",
        "    Action= np.array([])\n",
        "    Recom= np.array([])\n",
        "    for ne in range(nb_episodes):\n",
        "        t+=1\n",
        "        if(t>T):\n",
        "          epsilon = epsilon/(np.sqrt(t-T)) \n",
        "        state = env.reset()\n",
        "        episode = []\n",
        "        nbr_a = 0\n",
        "        nbr_r = 0\n",
        "        while not env.is_final(state):\n",
        "            action = np.random.choice(nba, p=policy[state])\n",
        "            nvstate, r, _, _ = env.step(action)\n",
        "            episode.append([state, action, nvstate, r])\n",
        "            state = nvstate\n",
        "            nbr_a +=1\n",
        "            nbr_r +=r\n",
        "        \n",
        "        g = 0 # retour\n",
        "        for s, a, ns, r in reversed(episode):\n",
        "            g = r + gamma * g\n",
        "            n[s, a] += 1\n",
        "            q[s, a] += (g - q[s,a]) / n[s,a] \n",
        "        \n",
        "        policy = Softmax_policy(q)\n",
        "        Recom = np.append(Recom,nbr_r)\n",
        "        Action = np.append(Action,nbr_a)\n",
        "    \n",
        "    return q,Action,Recom\n",
        "\n",
        "\n",
        "###### Sarsa avec SoftMax:\n",
        "def sarsaSM(env, gamma, alpha, nb_episodes, epsilon,T,TEMP):\n",
        "    q = np.zeros((env.get_nb_states(), env.get_nb_actions()))\n",
        "    t=0\n",
        "    Action= np.array([])\n",
        "    Recom= np.array([])\n",
        "    for ne in range(nb_episodes):\n",
        "        t+=1\n",
        "        if(t>T):\n",
        "          epsilon = epsilon/(np.sqrt(t-T))       \n",
        "        state = env.reset()\n",
        "        action = Softmax_decision(q, state, TEMP)\n",
        "        nbr_a = 1\n",
        "        nbr_r = 0\n",
        "        while not env.is_final(state):\n",
        "            nvstate, r, final, _ = env.step(action)\n",
        "            nvaction = Softmax_decision(q, state, TEMP)\n",
        "            \n",
        "            if final:\n",
        "                target = r\n",
        "            else:\n",
        "                target = r + gamma * q[nvstate, nvaction]\n",
        "            \n",
        "            q[state, action] += alpha * (target - q[state, action])\n",
        "            \n",
        "            state = nvstate\n",
        "            action = nvaction\n",
        "            \n",
        "            nbr_a+=1\n",
        "            nbr_r+=r\n",
        "        Recom = np.append(X,nbr_r)\n",
        "        Action = np.append(Action,nbr_a)\n",
        "    return q,Action,Recom\n",
        "\n",
        "\n",
        "\n",
        "\n",
        "###### Q_Learning avec SoftMax:\n",
        "def q_learningSM(env, gamma, alpha, nb_episodes, epsilon,T,TEMP):\n",
        "    q = np.zeros((env.get_nb_states(), env.get_nb_actions()))\n",
        "    t=0     \n",
        "    Action= np.array([])\n",
        "    Recom= np.array([])\n",
        "    for ne in range(nb_episodes):\n",
        "        t+=1\n",
        "        if(t>T):\n",
        "          epsilon = epsilon/(np.sqrt(t-T))\n",
        "        state = env.reset()\n",
        "        nbr_a = 0\n",
        "        nbr_r = 0\n",
        "        while not env.is_final(state):\n",
        "            action = Softmax_decision(q, state, TEMP)\n",
        "            nvstate, r, final, _ = env.step(action)\n",
        "            \n",
        "            if final:\n",
        "                target = r\n",
        "            else:\n",
        "                target = r + gamma * np.max(q[nvstate])\n",
        "            \n",
        "            q[state, action] += alpha * (target - q[state, action])\n",
        "            \n",
        "            state = nvstate\n",
        "            nbr_a+=1\n",
        "            nbr_r+=1\n",
        "\n",
        "        Action = np.append(Action,nbr_a)\n",
        "        Recom  = np.append(Recom, nbr_r) \n",
        "    return q,Action,Recom\n"
      ],
      "execution_count": null,
      "outputs": []
    },
    {
      "cell_type": "markdown",
      "metadata": {
        "id": "N9YWsiCsMtwe"
      },
      "source": [
        "Question 3 : Reproduire ces tests dans les environnements : \n",
        "\n",
        "\n",
        "1. FrozenLake44: "
      ]
    },
    {
      "cell_type": "code",
      "metadata": {
        "colab": {
          "base_uri": "https://localhost:8080/",
          "height": 283
        },
        "id": "ieErCR8DMY56",
        "outputId": "f870c601-7101-4b25-d7ea-5a266affadec"
      },
      "source": [
        "env1 = base.FrozenLake44()\n",
        "#Apply Monte Carlo: \n",
        "q_mc,Action,Recomp = monte_carlo(env1, 0.9, 100, 0.1,50)\n",
        "p_mc = greedy_policy(q_mc)\n",
        "p_mc\n",
        "\n",
        "plt.plot(range(100),Action)"
      ],
      "execution_count": null,
      "outputs": [
        {
          "output_type": "execute_result",
          "data": {
            "text/plain": [
              "[<matplotlib.lines.Line2D at 0x7f00cf37ad68>]"
            ]
          },
          "metadata": {
            "tags": []
          },
          "execution_count": 74
        },
        {
          "output_type": "display_data",
          "data": {
            "image/png": "[encoded data removed]",
            "text/plain": [
              "<Figure size 432x288 with 1 Axes>"
            ]
          },
          "metadata": {
            "tags": [],
            "needs_background": "light"
          }
        }
      ]
    },
    {
      "cell_type": "code",
      "metadata": {
        "id": "NJrmCCMHOa-9"
      },
      "source": [
        "plt.plot(range(100),Recomp)"
      ],
      "execution_count": null,
      "outputs": []
    },
    {
      "cell_type": "code",
      "metadata": {
        "colab": {
          "base_uri": "https://localhost:8080/",
          "height": 283
        },
        "id": "CvXOu7X9NKUD",
        "outputId": "2bf206d1-9f22-4186-8647-c9e264df197f"
      },
      "source": [
        "#Apply Sarsa: \n",
        "\n",
        "q_sarsa,Action,Recomp = sarsa(env1,0.9,0.8,100,0.1,50)\n",
        "p_sarsa = greedy_policy(q_sarsa)\n",
        "p_sarsa\n",
        "\n",
        "plt.plot(range(100),Action)"
      ],
      "execution_count": null,
      "outputs": [
        {
          "output_type": "execute_result",
          "data": {
            "text/plain": [
              "[<matplotlib.lines.Line2D at 0x7f00cf147400>]"
            ]
          },
          "metadata": {
            "tags": []
          },
          "execution_count": 81
        },
        {
          "output_type": "display_data",
          "data": {
            "image/png": "[encoded data removed]",
            "text/plain": [
              "<Figure size 432x288 with 1 Axes>"
            ]
          },
          "metadata": {
            "tags": [],
            "needs_background": "light"
          }
        }
      ]
    },
    {
      "cell_type": "code",
      "metadata": {
        "id": "-YHT9FSNOcVe"
      },
      "source": [
        "plt.plot(range(100),Recomp)"
      ],
      "execution_count": null,
      "outputs": []
    },
    {
      "cell_type": "code",
      "metadata": {
        "colab": {
          "base_uri": "https://localhost:8080/",
          "height": 283
        },
        "id": "b3WlAQBYNcIA",
        "outputId": "0ac5a473-31cf-4e78-e4d3-79c5a58c4a23"
      },
      "source": [
        "#Apply Q_Learning: \n",
        "\n",
        "q_Ql,Action,Recomp = q_learning(env1,0.9,0.8,100,0.1,50)\n",
        "p_Ql = greedy_policy(q_Ql)\n",
        "\n",
        "p_Ql\n",
        "plt.plot(range(100),Recomp)"
      ],
      "execution_count": null,
      "outputs": [
        {
          "output_type": "execute_result",
          "data": {
            "text/plain": [
              "[<matplotlib.lines.Line2D at 0x7f00cf2096a0>]"
            ]
          },
          "metadata": {
            "tags": []
          },
          "execution_count": 79
        },
        {
          "output_type": "display_data",
          "data": {
            "image/png": "[encoded data removed]",
            "text/plain": [
              "<Figure size 432x288 with 1 Axes>"
            ]
          },
          "metadata": {
            "tags": [],
            "needs_background": "light"
          }
        }
      ]
    },
    {
      "cell_type": "code",
      "metadata": {
        "id": "uZhU7iQcOeMQ"
      },
      "source": [
        "plt.plot(range(100),Recomp)"
      ],
      "execution_count": null,
      "outputs": []
    },
    {
      "cell_type": "markdown",
      "metadata": {
        "id": "Ox315gB_Of-o"
      },
      "source": [
        "2. FoorRooms_Key: "
      ]
    },
    {
      "cell_type": "code",
      "metadata": {
        "colab": {
          "base_uri": "https://localhost:8080/",
          "height": 283
        },
        "id": "-1VubvrDNxlf",
        "outputId": "61f05290-c1cd-4884-f6a3-279c36831d46"
      },
      "source": [
        "env2 = base. FoorRooms_Key()\n",
        "#Apply Monte Carlo: \n",
        "q_mc,Action,Recomp = monte_carlo(env2, 0.9, 100, 0.1,50)\n",
        "p_mc = greedy_policy(q_mc)\n",
        "p_mc\n",
        "\n",
        "plt.plot(range(100),Action)"
      ],
      "execution_count": null,
      "outputs": [
        {
          "output_type": "execute_result",
          "data": {
            "text/plain": [
              "[<matplotlib.lines.Line2D at 0x7f00cef1c828>]"
            ]
          },
          "metadata": {
            "tags": []
          },
          "execution_count": 86
        },
        {
          "output_type": "display_data",
          "data": {
            "image/png": "[encoded data removed]",
            "text/plain": [
              "<Figure size 432x288 with 1 Axes>"
            ]
          },
          "metadata": {
            "tags": [],
            "needs_background": "light"
          }
        }
      ]
    },
    {
      "cell_type": "code",
      "metadata": {
        "id": "SmsQ3fyDOXl_"
      },
      "source": [
        "plt.plot(range(100),Recomp)"
      ],
      "execution_count": null,
      "outputs": []
    },
    {
      "cell_type": "code",
      "metadata": {
        "id": "Z_RnKcpEOMuY"
      },
      "source": [
        "#Apply Sarsa: \n",
        "\n",
        "q_sarsa,Action,Recomp = sarsa(env2,0.9,0.8,100,0.1,50)\n",
        "p_sarsa = greedy_policy(q_sarsa)\n",
        "p_sarsa\n",
        "\n",
        "plt.plot(range(100),Action)"
      ],
      "execution_count": null,
      "outputs": []
    },
    {
      "cell_type": "code",
      "metadata": {
        "id": "nF3ZCWQpOR_0"
      },
      "source": [
        "plt.plot(range(100),Recomp)"
      ],
      "execution_count": null,
      "outputs": []
    },
    {
      "cell_type": "code",
      "metadata": {
        "colab": {
          "base_uri": "https://localhost:8080/",
          "height": 448
        },
        "id": "AiraVbbfOAp9",
        "outputId": "fe3bd16c-6f02-4da2-e8a8-bb69e71a35d7"
      },
      "source": [
        "#Apply Q_Learning: \n",
        "\n",
        "q_Ql,Action,Recomp = q_learning(env2,0.9,0.8,10,0.1,50)\n",
        "p_Ql = greedy_policy(q_Ql)\n",
        "\n",
        "p_Ql\n",
        "plt.plot(range(100),Recomp)"
      ],
      "execution_count": null,
      "outputs": [
        {
          "output_type": "error",
          "ename": "KeyboardInterrupt",
          "evalue": "ignored",
          "traceback": [
            "\u001b[0;31m---------------------------------------------------------------------------\u001b[0m",
            "\u001b[0;31mKeyboardInterrupt\u001b[0m                         Traceback (most recent call last)",
            "\u001b[0;32m<ipython-input-92-f123dcb2f8b1>\u001b[0m in \u001b[0;36m<module>\u001b[0;34m()\u001b[0m\n\u001b[1;32m      1\u001b[0m \u001b[0;31m#Apply Q_Learning:\u001b[0m\u001b[0;34m\u001b[0m\u001b[0;34m\u001b[0m\u001b[0;34m\u001b[0m\u001b[0m\n\u001b[1;32m      2\u001b[0m \u001b[0;34m\u001b[0m\u001b[0m\n\u001b[0;32m----> 3\u001b[0;31m \u001b[0mq_Ql\u001b[0m\u001b[0;34m,\u001b[0m\u001b[0mAction\u001b[0m\u001b[0;34m,\u001b[0m\u001b[0mRecomp\u001b[0m \u001b[0;34m=\u001b[0m \u001b[0mq_learning\u001b[0m\u001b[0;34m(\u001b[0m\u001b[0menv2\u001b[0m\u001b[0;34m,\u001b[0m\u001b[0;36m0.9\u001b[0m\u001b[0;34m,\u001b[0m\u001b[0;36m0.8\u001b[0m\u001b[0;34m,\u001b[0m\u001b[0;36m10\u001b[0m\u001b[0;34m,\u001b[0m\u001b[0;36m0.1\u001b[0m\u001b[0;34m,\u001b[0m\u001b[0;36m50\u001b[0m\u001b[0;34m)\u001b[0m\u001b[0;34m\u001b[0m\u001b[0;34m\u001b[0m\u001b[0m\n\u001b[0m\u001b[1;32m      4\u001b[0m \u001b[0mp_Ql\u001b[0m \u001b[0;34m=\u001b[0m \u001b[0mgreedy_policy\u001b[0m\u001b[0;34m(\u001b[0m\u001b[0mq_Ql\u001b[0m\u001b[0;34m)\u001b[0m\u001b[0;34m\u001b[0m\u001b[0;34m\u001b[0m\u001b[0m\n\u001b[1;32m      5\u001b[0m \u001b[0;34m\u001b[0m\u001b[0m\n",
            "\u001b[0;32m<ipython-input-78-9fbe1c348ed0>\u001b[0m in \u001b[0;36mq_learning\u001b[0;34m(env, gamma, alpha, nb_episodes, epsilon, T)\u001b[0m\n\u001b[1;32m    113\u001b[0m                 \u001b[0mtarget\u001b[0m \u001b[0;34m=\u001b[0m \u001b[0mr\u001b[0m\u001b[0;34m\u001b[0m\u001b[0;34m\u001b[0m\u001b[0m\n\u001b[1;32m    114\u001b[0m             \u001b[0;32melse\u001b[0m\u001b[0;34m:\u001b[0m\u001b[0;34m\u001b[0m\u001b[0;34m\u001b[0m\u001b[0m\n\u001b[0;32m--> 115\u001b[0;31m                 \u001b[0mtarget\u001b[0m \u001b[0;34m=\u001b[0m \u001b[0mr\u001b[0m \u001b[0;34m+\u001b[0m \u001b[0mgamma\u001b[0m \u001b[0;34m*\u001b[0m \u001b[0mnp\u001b[0m\u001b[0;34m.\u001b[0m\u001b[0mmax\u001b[0m\u001b[0;34m(\u001b[0m\u001b[0mq\u001b[0m\u001b[0;34m[\u001b[0m\u001b[0mnvstate\u001b[0m\u001b[0;34m]\u001b[0m\u001b[0;34m)\u001b[0m\u001b[0;34m\u001b[0m\u001b[0;34m\u001b[0m\u001b[0m\n\u001b[0m\u001b[1;32m    116\u001b[0m \u001b[0;34m\u001b[0m\u001b[0m\n\u001b[1;32m    117\u001b[0m             \u001b[0mq\u001b[0m\u001b[0;34m[\u001b[0m\u001b[0mstate\u001b[0m\u001b[0;34m,\u001b[0m \u001b[0maction\u001b[0m\u001b[0;34m]\u001b[0m \u001b[0;34m+=\u001b[0m \u001b[0malpha\u001b[0m \u001b[0;34m*\u001b[0m \u001b[0;34m(\u001b[0m\u001b[0mtarget\u001b[0m \u001b[0;34m-\u001b[0m \u001b[0mq\u001b[0m\u001b[0;34m[\u001b[0m\u001b[0mstate\u001b[0m\u001b[0;34m,\u001b[0m \u001b[0maction\u001b[0m\u001b[0;34m]\u001b[0m\u001b[0;34m)\u001b[0m\u001b[0;34m\u001b[0m\u001b[0;34m\u001b[0m\u001b[0m\n",
            "\u001b[0;32m<__array_function__ internals>\u001b[0m in \u001b[0;36mamax\u001b[0;34m(*args, **kwargs)\u001b[0m\n",
            "\u001b[0;32m/usr/local/lib/python3.6/dist-packages/numpy/core/fromnumeric.py\u001b[0m in \u001b[0;36mamax\u001b[0;34m(a, axis, out, keepdims, initial, where)\u001b[0m\n\u001b[1;32m   2704\u001b[0m     \"\"\"\n\u001b[1;32m   2705\u001b[0m     return _wrapreduction(a, np.maximum, 'max', axis, None, out,\n\u001b[0;32m-> 2706\u001b[0;31m                           keepdims=keepdims, initial=initial, where=where)\n\u001b[0m\u001b[1;32m   2707\u001b[0m \u001b[0;34m\u001b[0m\u001b[0m\n\u001b[1;32m   2708\u001b[0m \u001b[0;34m\u001b[0m\u001b[0m\n",
            "\u001b[0;32m/usr/local/lib/python3.6/dist-packages/numpy/core/fromnumeric.py\u001b[0m in \u001b[0;36m_wrapreduction\u001b[0;34m(obj, ufunc, method, axis, dtype, out, **kwargs)\u001b[0m\n\u001b[1;32m     85\u001b[0m                 \u001b[0;32mreturn\u001b[0m \u001b[0mreduction\u001b[0m\u001b[0;34m(\u001b[0m\u001b[0maxis\u001b[0m\u001b[0;34m=\u001b[0m\u001b[0maxis\u001b[0m\u001b[0;34m,\u001b[0m \u001b[0mout\u001b[0m\u001b[0;34m=\u001b[0m\u001b[0mout\u001b[0m\u001b[0;34m,\u001b[0m \u001b[0;34m**\u001b[0m\u001b[0mpasskwargs\u001b[0m\u001b[0;34m)\u001b[0m\u001b[0;34m\u001b[0m\u001b[0;34m\u001b[0m\u001b[0m\n\u001b[1;32m     86\u001b[0m \u001b[0;34m\u001b[0m\u001b[0m\n\u001b[0;32m---> 87\u001b[0;31m     \u001b[0;32mreturn\u001b[0m \u001b[0mufunc\u001b[0m\u001b[0;34m.\u001b[0m\u001b[0mreduce\u001b[0m\u001b[0;34m(\u001b[0m\u001b[0mobj\u001b[0m\u001b[0;34m,\u001b[0m \u001b[0maxis\u001b[0m\u001b[0;34m,\u001b[0m \u001b[0mdtype\u001b[0m\u001b[0;34m,\u001b[0m \u001b[0mout\u001b[0m\u001b[0;34m,\u001b[0m \u001b[0;34m**\u001b[0m\u001b[0mpasskwargs\u001b[0m\u001b[0;34m)\u001b[0m\u001b[0;34m\u001b[0m\u001b[0;34m\u001b[0m\u001b[0m\n\u001b[0m\u001b[1;32m     88\u001b[0m \u001b[0;34m\u001b[0m\u001b[0m\n\u001b[1;32m     89\u001b[0m \u001b[0;34m\u001b[0m\u001b[0m\n",
            "\u001b[0;31mKeyboardInterrupt\u001b[0m: "
          ]
        }
      ]
    },
    {
      "cell_type": "code",
      "metadata": {
        "id": "rGSQwWg4OUEN"
      },
      "source": [
        "plt.plot(range(100),Recomp)"
      ],
      "execution_count": null,
      "outputs": []
    },
    {
      "cell_type": "markdown",
      "metadata": {
        "id": "N7K1lK3AO8yH"
      },
      "source": [
        "Question 4 : Implémentation UCT : "
      ]
    },
    {
      "cell_type": "code",
      "metadata": {
        "id": "jQSr13rtkebW"
      },
      "source": [
        "from math import sqrt, log\n",
        "from copy import deepcopy\n",
        "from queue import Queue\n",
        "from random import choice\n",
        "from time import clock\n",
        "\n",
        "class MCTSMeta:\n",
        "    EXPLORATION = 0.5\n",
        "    RAVE_CONST = 300\n",
        "    RANDOMNESS = 0.5\n",
        "    POOLRAVE_CAPACITY = 10\n",
        "    K_CONST = 10\n",
        "    A_CONST = 0.25\n",
        "    WARMUP_ROLLOUTS = 7"
      ],
      "execution_count": null,
      "outputs": []
    },
    {
      "cell_type": "code",
      "metadata": {
        "id": "rRDZNlD5E25a"
      },
      "source": [
        "class Node:\n",
        "    \"\"\"\n",
        "    Node pour les MCTS. Stocke le déplacement appliqué pour atteindre ce nœud depuis son parent,\n",
        "     statistiques pour la position de jeu, les enfants, le parent et le résultat associés\n",
        "     (résultat == aucun sauf si la position met fin à la partie).\n",
        "     Args:\n",
        "         move:\n",
        "         parent:\n",
        "         N (int): le temps où ce poste a été visité\n",
        "         Q (int): récompense moyenne (victoires-pertes) de cette position\n",
        "         Q_RAVE (int): le temps que ce mouvement a été critique dans un déploiement\n",
        "         N_RAVE (int): le temps que ce mouvement est apparu dans un déploiement\n",
        "         children (dict): dictionnaire des nœuds successifs\n",
        "         résultat (entier): si le nœud est une feuille, le résultat indique\n",
        "                        le gagnant, sinon Aucun\n",
        "    \"\"\"\n",
        "\n",
        "    def __init__(self, move: tuple = None, parent: object = None):\n",
        "        \"\"\"\n",
        "        Initialisez un nouveau nœud avec move et  parent facultatifs \n",
        "        et la liste des enfants initialement vides et les statistiques de déploiement \n",
        "        et un résultat non spécifié..\n",
        "        \"\"\"\n",
        "        self.move = move\n",
        "        self.parent = parent\n",
        "        self.N = 0  # times this position was visited\n",
        "        self.Q = 0  # average reward (wins-losses) from this position\n",
        "        self.Q_RAVE = 0  # times this move has been critical in a rollout\n",
        "        self.N_RAVE = 0  # times this move has appeared in a rollout\n",
        "        self.children = {}\n",
        "        self.outcome = GameMeta.PLAYERS['none']\n",
        "\n",
        "    def add_children(self, children: dict) -> None:\n",
        "        \"\"\"\n",
        "        Ajoutez une liste de nœuds aux enfants de ce nœud.\n",
        "        \"\"\"\n",
        "        for child in children:\n",
        "            self.children[child.move] = child\n",
        "\n",
        "    @property\n",
        "    def value(self, explore: float = MCTSMeta.EXPLORATION):\n",
        "        \"\"\"\n",
        "        Calculez la valeur UCT de ce nœud par rapport à son parent, le paramètre \n",
        "        \"explorer\" spécifie dans quelle mesure la valeur doit favoriser les nœuds \n",
        "        qui n'ont pas encore été explorés de manière approfondie par rapport aux \n",
        "        nœuds qui semblent avoir un taux de réussite élevé.\n",
        "         Actuellement, l'exploration est définie sur 0,5.\n",
        "        \"\"\"\n",
        "        # if the node is not visited, set the value as infinity. Nodes with no visits are on priority\n",
        "        # (lambda: print(\"a\"), lambda: print(\"b\"))[test==true]()\n",
        "        if self.N == 0:\n",
        "            return 0 if explore == 0 else GameMeta.INF\n",
        "        else:\n",
        "            return self.Q / self.N + explore * sqrt(2 * log(self.parent.N) / self.N)  # exploitation + exploration\n",
        "\n"
      ],
      "execution_count": null,
      "outputs": []
    },
    {
      "cell_type": "code",
      "metadata": {
        "id": "p4rdshO7G8sP"
      },
      "source": [
        "class UctMctsAgent:\n",
        "    \"\"\"\n",
        "       Implémentation basique et sans fioritures d'un agent qui préforme MCTS pour hexagone.\n",
        "     Les attributs:\n",
        "         root_state (GameState): simulateur de jeu qui nous aide à comprendre la situation du jeu\n",
        "         root (Node): racine de l'arborescence de recherche\n",
        "         run_time (int): temps pour chaque exécution\n",
        "         node_count (int): les nœuds entiers dans l'arbre\n",
        "         num_rollouts (int): le nombre de déploiements pour chaque recherche\n",
        "         EXPLORATION (int): spécifie dans quelle mesure la valeur devrait favoriser les nœuds qui \n",
        "         n'ont pas encore été explorés de manière approfondie par rapport aux \n",
        "         nœuds qui semblent avoir un taux de victoire élevé.\n",
        "    \"\"\"\n",
        "\n",
        "    def search(self, time_budget: int) -> None:\n",
        "        \"\"\"\n",
        "        Recherchez et mettez à jour l'arborescence de \n",
        "        recherche pendant une durée spécifiée en secondes.\n",
        "        \"\"\"\n",
        "        start_time = clock()\n",
        "        num_rollouts = 0\n",
        "\n",
        "        # faire jusqu'à ce que nous dépassions notre budget de temps\n",
        "        while clock() - start_time < time_budget:\n",
        "            node, state = self.select_node()\n",
        "            turn = state.turn()\n",
        "            outcome = self.roll_out(state)\n",
        "            self.backup(node, turn, outcome)\n",
        "            num_rollouts += 1\n",
        "        run_time = clock() - start_time\n",
        "        node_count = self.tree_size()\n",
        "        self.run_time = run_time\n",
        "        self.node_count = node_count\n",
        "        self.num_rollouts = num_rollouts\n",
        "\n",
        "    def select_node(self) -> tuple:\n",
        "        \"\"\"\n",
        "        Sélectionnez un nœud dans l'arborescence à partir duquel \n",
        "        effectuer une seule simulation.\n",
        "        \"\"\"\n",
        "        node = self.root\n",
        "        state = deepcopy(self.root_state)\n",
        "\n",
        "        # arrêter si nous trouvons atteindre un nœud feuille\n",
        "        while len(node.children) != 0:\n",
        "            # descendre au nœud de valeur maximale, rompre les liens au hasard\n",
        "            children = node.children.values()\n",
        "            max_value = max(children, key=lambda n: n.value).value\n",
        "            max_nodes = [n for n in node.children.values()\n",
        "                         if n.value == max_value]\n",
        "            node = choice(max_nodes)\n",
        "            state.play(node.move)\n",
        "\n",
        "            # si un nœud enfant n'a pas été exploré, sélectionnez-le avant de développer \n",
        "            # d'autres enfants\n",
        "            if node.N == 0:\n",
        "                return node, state\n",
        "\n",
        "        # si nous atteignons un nœud feuille, générer ses enfants et renvoyer l'un d'eux\n",
        "        # si le nœud est terminal, renvoyez simplement le nœud terminal\n",
        "        if self.expand(node, state):\n",
        "            node = choice(list(node.children.values()))\n",
        "            state.play(node.move)\n",
        "        return node, state\n",
        "\n",
        "    \n",
        "    @staticmethod\n",
        "    def backup(node: Node, turn: int, outcome: int) -> None:\n",
        "        \"\"\"\n",
        "        Mettre à jour les statistiques du nœud sur le chemin du nœud passé à la racine pour refléter\n",
        "         le résultat d'une diffusion simulée au hasard.\n",
        "         Args:\n",
        "             node:\n",
        "             turn: tour gagnant\n",
        "             outcome: résultat du déploiement\n",
        "         Returns:\n",
        "             objet:\n",
        "        \"\"\"\n",
        "\n",
        "        reward = 0 if outcome == turn else 1\n",
        "\n",
        "        while node is not None:\n",
        "            node.N += 1\n",
        "            node.Q += reward\n",
        "            node = node.parent\n",
        "            reward = 0 if reward == 1 else 1\n",
        "\n",
        "    def best_move(self) -> tuple:\n",
        "        \"\"\"\n",
        "        Renvoie le meilleur coup en fonction de l'arborescence actuelle.\n",
        "         Retourne:\n",
        "             meilleur coup en termes de nombre de simulations à moins que le jeu ne soit terminé\n",
        "        \"\"\"\n",
        "        if self.root_state.winner != GameMeta.PLAYERS['none']:\n",
        "            return GameMeta.GAME_OVER\n",
        "\n",
        "        # choisir le mouvement du nœud le plus simulé en cassant les liens au hasard\n",
        "        max_value = max(self.root.children.values(), key=lambda n: n.N).N\n",
        "        max_nodes = [n for n in self.root.children.values() if n.N == max_value]\n",
        "        bestchild = choice(max_nodes)\n",
        "        return bestchild.move\n",
        "\n",
        "    def move(self, move: tuple) -> None:\n",
        "        \"\"\"\n",
        "          Faites le déplacement passé et mettez à jour l'arborescence de manière appropriée. \n",
        "          Il est conçu pour permettre au joueur de choisir une action manuellement \n",
        "          (ce qui n'est peut-être pas la meilleure action).\n",
        "    \n",
        "          Args:\n",
        "             move:\n",
        "        \"\"\"\n",
        "        if move in self.root.children:\n",
        "            child = self.root.children[move]\n",
        "            child.parent = None\n",
        "            self.root = child\n",
        "            self.root_state.play(child.move)\n",
        "            return\n",
        "\n",
        "        self.root_state.play(move)\n",
        "        self.root = Node()\n",
        "\n",
        "\n",
        "\n",
        "    def statistics(self) -> tuple:\n",
        "        return self.num_rollouts, self.node_count, self.run_time\n",
        "\n",
        "    def tree_size(self) -> int:\n",
        "        \"\"\"\n",
        "        Calcule nodes in tree by BFS.\n",
        "        \"\"\"\n",
        "        Q = Queue()\n",
        "        count = 0\n",
        "        Q.put(self.root)\n",
        "        while not Q.empty():\n",
        "            node = Q.get()\n",
        "            count += 1\n",
        "            for child in node.children.values():\n",
        "                Q.put(child)\n",
        "        return count"
      ],
      "execution_count": null,
      "outputs": []
    }
  ]
}